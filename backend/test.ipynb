{
 "cells": [
  {
   "cell_type": "code",
   "execution_count": null,
   "id": "57d16c32",
   "metadata": {},
   "outputs": [],
   "source": [
    "from typing import Optional\n",
    "from datetime import datetime\n",
    "from sqlmodel import SQLModel, Field\n",
    "\n",
    "class Production(SQLModel, table=True):\n",
    "    __tablename__ = \"production\"   # 明確指定資料表名稱\n",
    "    __table_args__ = {\"schema\": \"app\"}  # 指定 schema\n",
    "\n",
    "    license_id: str = Field(primary_key=True)\n",
    "    license_name: Optional[str] = None\n",
    "    license_info: Optional[str] = None\n",
    "    exam_date: Optional[str] = None\n",
    "    price: Optional[str] = None\n",
    "    exam_location: Optional[str] = None\n",
    "    registration_start: Optional[datetime] = None\n",
    "    registration_end: Optional[datetime] = None\n",
    "    display_status: Optional[int] = None\n",
    "    created_at: Optional[datetime] = None\n"
   ]
  },
  {
   "cell_type": "code",
   "execution_count": null,
   "id": "1b6f3778",
   "metadata": {},
   "outputs": [],
   "source": [
    "with Session(engine) as session:\n",
    "    statement = select(Production)\n",
    "    results = session.exec(statement)\n",
    "    for hero in results:\n",
    "        print(hero)"
   ]
  },
  {
   "cell_type": "code",
   "execution_count": null,
   "id": "2355e906",
   "metadata": {},
   "outputs": [],
   "source": [
    "from app.core import pg_engine\n",
    "from datetime import datetime\n",
    "\n",
    "pg = pg_engine.PsqlEngine()#.connect_db()\n",
    "# pg.connect_db()\n",
    "# stmt = \"UPDATE app.customs SET last_login = NOW() WHERE email = 'hank.yang@omniwaresoft.com.tw';\"\n",
    "table_name = \"app.production\"\n",
    "values = [\n",
    "    (\n",
    "        '010-789',\n",
    "        'Linux Professional Institute Linux Essentials',\n",
    "        '第一筆insert',\n",
    "        None,\n",
    "        '120',\n",
    "        None,\n",
    "        None,\n",
    "        None,\n",
    "        1,\n",
    "        datetime.now()\n",
    "    ),\n",
    "    (\n",
    "        '010-456',\n",
    "        'Linux Professional Institute Linux Essentials',\n",
    "        '第二筆insert',\n",
    "        None,\n",
    "        '120',\n",
    "        None,\n",
    "        None,\n",
    "        None,\n",
    "        1,\n",
    "        datetime.now()\n",
    "    )\n",
    "]\n",
    "pg.insert_mogrify(table_name, values)\n",
    "# pg.execute_cmd(stmt)\n",
    "# pg.close_connect()"
   ]
  },
  {
   "cell_type": "code",
   "execution_count": null,
   "id": "f9b72957",
   "metadata": {},
   "outputs": [],
   "source": [
    "import uuid\n",
    "\n",
    "user_id = str(uuid.uuid4())\n",
    "print(user_id)\n",
    "\n"
   ]
  },
  {
   "cell_type": "code",
   "execution_count": null,
   "id": "6e3fa328",
   "metadata": {},
   "outputs": [],
   "source": [
    "import bcrypt\n",
    "\n",
    "# 設定新密碼\n",
    "new_password = \"123\"\n",
    "\n",
    "# 使用 bcrypt 生成密碼哈希\n",
    "hashed_password = bcrypt.hashpw(new_password.encode(), bcrypt.gensalt()).decode()\n",
    "\n",
    "print(hashed_password)\n"
   ]
  }
 ],
 "metadata": {
  "kernelspec": {
   "display_name": ".venv",
   "language": "python",
   "name": "python3"
  },
  "language_info": {
   "codemirror_mode": {
    "name": "ipython",
    "version": 3
   },
   "file_extension": ".py",
   "mimetype": "text/x-python",
   "name": "python",
   "nbconvert_exporter": "python",
   "pygments_lexer": "ipython3",
   "version": "3.12.10"
  }
 },
 "nbformat": 4,
 "nbformat_minor": 5
}
